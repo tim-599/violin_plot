{
 "cells": [
  {
   "cell_type": "code",
   "execution_count": 1,
   "id": "8b7ba552-1f69-4070-bf50-33dcb2a32a8e",
   "metadata": {},
   "outputs": [],
   "source": [
    "#資料來源\n",
    "#https://youtu.be/PNNLefP974M 11分鐘\n",
    "#https://python-graph-gallery.com/web-ggbetweenstats-with-matplotlib/\n",
    "\n",
    "import pandas as pd\n",
    "import seaborn as sb\n",
    "from matplotlib import pyplot as plt\n",
    "import numpy as np\n",
    "import scipy.stats as st\n",
    "from palmerpenguins import load_penguins\n",
    "\n",
    "from pyfonts import load_font\n",
    "from matplotlib import font_manager\n"
   ]
  },
  {
   "cell_type": "code",
   "execution_count": 2,
   "id": "f8d9b751-8509-4864-93f3-8e78350ba3bd",
   "metadata": {},
   "outputs": [
    {
     "data": {
      "text/html": [
       "<div>\n",
       "<style scoped>\n",
       "    .dataframe tbody tr th:only-of-type {\n",
       "        vertical-align: middle;\n",
       "    }\n",
       "\n",
       "    .dataframe tbody tr th {\n",
       "        vertical-align: top;\n",
       "    }\n",
       "\n",
       "    .dataframe thead th {\n",
       "        text-align: right;\n",
       "    }\n",
       "</style>\n",
       "<table border=\"1\" class=\"dataframe\">\n",
       "  <thead>\n",
       "    <tr style=\"text-align: right;\">\n",
       "      <th></th>\n",
       "      <th>condition</th>\n",
       "      <th>TGFBI</th>\n",
       "      <th>CCN2</th>\n",
       "      <th>VCL</th>\n",
       "      <th>COL5A1</th>\n",
       "    </tr>\n",
       "  </thead>\n",
       "  <tbody>\n",
       "    <tr>\n",
       "      <th>0</th>\n",
       "      <td>WT</td>\n",
       "      <td>31.073257</td>\n",
       "      <td>11.697845</td>\n",
       "      <td>154.844284</td>\n",
       "      <td>22.106228</td>\n",
       "    </tr>\n",
       "    <tr>\n",
       "      <th>1</th>\n",
       "      <td>WT</td>\n",
       "      <td>29.047001</td>\n",
       "      <td>12.133048</td>\n",
       "      <td>148.085327</td>\n",
       "      <td>19.572609</td>\n",
       "    </tr>\n",
       "    <tr>\n",
       "      <th>2</th>\n",
       "      <td>WT</td>\n",
       "      <td>27.694672</td>\n",
       "      <td>11.398445</td>\n",
       "      <td>132.126373</td>\n",
       "      <td>20.315268</td>\n",
       "    </tr>\n",
       "    <tr>\n",
       "      <th>3</th>\n",
       "      <td>CA</td>\n",
       "      <td>22.987837</td>\n",
       "      <td>6.072078</td>\n",
       "      <td>164.283783</td>\n",
       "      <td>25.830235</td>\n",
       "    </tr>\n",
       "    <tr>\n",
       "      <th>4</th>\n",
       "      <td>CA</td>\n",
       "      <td>20.253202</td>\n",
       "      <td>4.832736</td>\n",
       "      <td>160.223648</td>\n",
       "      <td>24.336178</td>\n",
       "    </tr>\n",
       "    <tr>\n",
       "      <th>5</th>\n",
       "      <td>CA</td>\n",
       "      <td>19.473551</td>\n",
       "      <td>5.394914</td>\n",
       "      <td>155.004868</td>\n",
       "      <td>22.258505</td>\n",
       "    </tr>\n",
       "    <tr>\n",
       "      <th>6</th>\n",
       "      <td>KD</td>\n",
       "      <td>193.368805</td>\n",
       "      <td>37.628437</td>\n",
       "      <td>211.769165</td>\n",
       "      <td>80.400826</td>\n",
       "    </tr>\n",
       "    <tr>\n",
       "      <th>7</th>\n",
       "      <td>KD</td>\n",
       "      <td>186.904968</td>\n",
       "      <td>40.204163</td>\n",
       "      <td>218.899338</td>\n",
       "      <td>95.391823</td>\n",
       "    </tr>\n",
       "    <tr>\n",
       "      <th>8</th>\n",
       "      <td>KD</td>\n",
       "      <td>182.181305</td>\n",
       "      <td>38.467026</td>\n",
       "      <td>218.515762</td>\n",
       "      <td>90.963860</td>\n",
       "    </tr>\n",
       "  </tbody>\n",
       "</table>\n",
       "</div>"
      ],
      "text/plain": [
       "  condition       TGFBI       CCN2         VCL     COL5A1\n",
       "0        WT   31.073257  11.697845  154.844284  22.106228\n",
       "1        WT   29.047001  12.133048  148.085327  19.572609\n",
       "2        WT   27.694672  11.398445  132.126373  20.315268\n",
       "3        CA   22.987837   6.072078  164.283783  25.830235\n",
       "4        CA   20.253202   4.832736  160.223648  24.336178\n",
       "5        CA   19.473551   5.394914  155.004868  22.258505\n",
       "6        KD  193.368805  37.628437  211.769165  80.400826\n",
       "7        KD  186.904968  40.204163  218.899338  95.391823\n",
       "8        KD  182.181305  38.467026  218.515762  90.963860"
      ]
     },
     "execution_count": 2,
     "metadata": {},
     "output_type": "execute_result"
    }
   ],
   "source": [
    "data = pd.read_csv('violin.csv')\n",
    "data"
   ]
  },
  {
   "cell_type": "code",
   "execution_count": 3,
   "id": "4519b5da-ff80-4119-ac07-861f890cc5cb",
   "metadata": {},
   "outputs": [
    {
     "name": "stdout",
     "output_type": "stream",
     "text": [
      "<class 'pandas.core.frame.DataFrame'>\n"
     ]
    }
   ],
   "source": [
    "print(type(data))"
   ]
  },
  {
   "cell_type": "code",
   "execution_count": 4,
   "id": "0e482317-1db5-4e8b-8481-92be48afa9c7",
   "metadata": {},
   "outputs": [
    {
     "data": {
      "text/plain": [
       "['CA', 'KD', 'WT']"
      ]
     },
     "execution_count": 4,
     "metadata": {},
     "output_type": "execute_result"
    }
   ],
   "source": [
    "condition = sorted(data[\"condition\"].unique())\n",
    "condition"
   ]
  },
  {
   "cell_type": "code",
   "execution_count": 5,
   "id": "04f3ddba-57b9-4801-a004-540a12767364",
   "metadata": {},
   "outputs": [],
   "source": [
    "以下是我自己做的"
   ]
  },
  {
   "cell_type": "code",
   "execution_count": 6,
   "id": "000df076-e0b2-4364-8698-4a097edbee28",
   "metadata": {},
   "outputs": [
    {
     "data": {
      "text/plain": [
       "<Axes: xlabel='condition', ylabel='COL5A1'>"
      ]
     },
     "execution_count": 6,
     "metadata": {},
     "output_type": "execute_result"
    },
    {
     "data": {
      "image/png": "[encoded data removed]",
      "text/plain": [
       "<Figure size 640x480 with 1 Axes>"
      ]
     },
     "metadata": {},
     "output_type": "display_data"
    }
   ],
   "source": [
    "sb.violinplot(x=data.condition, y=data.COL5A1)\n",
    "\n",
    "# plt.savefig('TGFBI.png',dpi=300,facecolor='white',bbox_inches='tight')\n",
    "# plt.savefig(\"TGFBI.pdf\", format=\"pdf\", facecolor='white', bbox_inches=\"tight\")\n"
   ]
  }
 ],
 "metadata": {
  "kernelspec": {
   "display_name": "Python 3 (ipykernel)",
   "language": "python",
   "name": "python3"
  },
  "language_info": {
   "codemirror_mode": {
    "name": "ipython",
    "version": 3
   },
   "file_extension": ".py",
   "mimetype": "text/x-python",
   "name": "python",
   "nbconvert_exporter": "python",
   "pygments_lexer": "ipython3",
   "version": "3.9.1"
  }
 },
 "nbformat": 4,
 "nbformat_minor": 5
}
